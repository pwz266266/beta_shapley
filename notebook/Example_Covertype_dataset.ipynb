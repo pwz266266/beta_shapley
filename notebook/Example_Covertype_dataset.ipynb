{
 "cells": [
  {
   "cell_type": "markdown",
   "metadata": {},
   "source": [
    "# Example Covertype dataset\n",
    "- In this notebook, we introduce how to use `ShapEngine` to compute Beta Shapley value. "
   ]
  },
  {
   "cell_type": "code",
   "execution_count": 1,
   "metadata": {},
   "outputs": [],
   "source": [
    "import os, sys, argparse\n",
    "from time import time\n",
    "import numpy as np\n",
    "np.random.seed(2022)\n",
    "sys.path.append('../betashap')\n",
    "from ShapEngine import ShapEngine\n",
    "import utils\n",
    "import data"
   ]
  },
  {
   "cell_type": "markdown",
   "metadata": {},
   "source": [
    "# Load data \n",
    "- We use the **Covertype** dataset (https://scikit-learn.org/stable/modules/generated/sklearn.datasets.fetch_covtype.html) and suppose 10% of data points in the training dataset is mislabeled.\n",
    "- A function `data.load_data` will load the train, val, and test datasets as well as a noisy index. "
   ]
  },
  {
   "cell_type": "code",
   "execution_count": 2,
   "metadata": {},
   "outputs": [],
   "source": [
    "problem='classification'\n",
    "dataset='covertype'\n",
    "dargs={'n_data_to_be_valued': 200, 'n_val': 200, 'n_test': 1000}"
   ]
  },
  {
   "cell_type": "code",
   "execution_count": 3,
   "metadata": {},
   "outputs": [
    {
     "name": "stdout",
     "output_type": "stream",
     "text": [
      "--------------------------------------------------\n",
      "Covertype\n",
      "--------------------------------------------------\n",
      "number of samples: 200\n",
      "------------------------------\n",
      "Train X: (200, 54)\n",
      "Val X: (200, 54)\n",
      "Test X: (1000, 54)\n",
      "------------------------------\n"
     ]
    }
   ],
   "source": [
    "# Load dataset\n",
    "(X, y), (X_val, y_val), (X_test, y_test), noisy_index=data.load_data(problem, dataset, **dargs)    \n",
    "\n",
    "print('-'*30)\n",
    "print(f'Train X: {X.shape}')\n",
    "print(f'Val X: {X_val.shape}')\n",
    "print(f'Test X: {X_test.shape}')\n",
    "print('-'*30)"
   ]
  },
  {
   "cell_type": "markdown",
   "metadata": {},
   "source": [
    "# Compute Beta Shapley"
   ]
  },
  {
   "cell_type": "code",
   "execution_count": 4,
   "metadata": {},
   "outputs": [],
   "source": [
    "model_family='logistic'\n",
    "metric='accuracy'\n",
    "GR_threshold=1.05\n",
    "weights_list=[(1, 16), (1, 4), (1,1), (4,1), (16, 1)]"
   ]
  },
  {
   "cell_type": "code",
   "execution_count": null,
   "metadata": {},
   "outputs": [
    {
     "name": "stdout",
     "output_type": "stream",
     "text": [
      "Source is initialized. A unit of sample is one data point\n",
      "Start: Marginal Contribution Calculation!\n"
     ]
    }
   ],
   "source": [
    "# Evaluate values\n",
    "shap_engine=ShapEngine(X=X, y=y, X_val=X_val, y_val=y_val, \n",
    "                       problem=problem, model_family=model_family, \n",
    "                       metric=metric, GR_threshold=GR_threshold)\n",
    "%time shap_engine.run(weights_list=weights_list)"
   ]
  },
  {
   "cell_type": "code",
   "execution_count": null,
   "metadata": {},
   "outputs": [],
   "source": [
    "# A vector of data values is stored in `shap_engine.results` \n",
    "print(f'List of data values: {list(shap_engine.results.keys())}')"
   ]
  },
  {
   "cell_type": "code",
   "execution_count": null,
   "metadata": {},
   "outputs": [],
   "source": [
    "# Beta(4:1) data values for the first 10 data points. \n",
    "first_ten_values=shap_engine.results['Beta(4:1)'][:10]\n",
    "print(f'First 10 data values: {first_ten_values}')"
   ]
  },
  {
   "cell_type": "code",
   "execution_count": null,
   "metadata": {},
   "outputs": [],
   "source": [
    "MC_mat=shap_engine.MC_obs_card_mat/(shap_engine.MC_count_obs_card_mat+1e-16)\n",
    "print(f'Shape of MC_mat : {MC_mat.shape}')\n",
    "print(f'Marginal contributions of the first sample: {MC_mat[0]}')"
   ]
  },
  {
   "cell_type": "markdown",
   "metadata": {},
   "source": [
    "# Marginal contributions for clean and noisy samples\n",
    "- Figure 2 in the manuscript shows a smooth curve because it is based on 50 independent runs."
   ]
  },
  {
   "cell_type": "code",
   "execution_count": null,
   "metadata": {},
   "outputs": [],
   "source": [
    "from matplotlib import pyplot as plt\n",
    "%matplotlib inline"
   ]
  },
  {
   "cell_type": "code",
   "execution_count": null,
   "metadata": {},
   "outputs": [],
   "source": [
    "clean_index=[i for i in range(MC_mat.shape[0]) if i not in noisy_index]\n",
    "plt.plot(np.arange(MC_mat.shape[0]), np.mean(MC_mat[clean_index], axis=0), label='Clean')\n",
    "plt.plot(np.arange(MC_mat.shape[0]), np.mean(MC_mat[noisy_index], axis=0), label='Noisy')\n",
    "plt.legend(fontsize=15)\n",
    "plt.xlabel('Cardinality', fontsize=15)\n",
    "plt.ylabel('Marginal Contributions', fontsize=15)"
   ]
  },
  {
   "cell_type": "markdown",
   "metadata": {},
   "source": [
    "# Performance on downstream ML tasks"
   ]
  },
  {
   "cell_type": "code",
   "execution_count": null,
   "metadata": {},
   "outputs": [],
   "source": [
    "result_dict=utils.summary_experiments(shap_engine, noisy_index, X_test, y_test)\n",
    "print(f'Available ML tasks: {list(result_dict.keys())}')"
   ]
  },
  {
   "cell_type": "code",
   "execution_count": null,
   "metadata": {},
   "outputs": [],
   "source": [
    "# For instance, a noisy label detection task result is stored in result_dict['noisy'] \n",
    "# For each method, it shows recall, precision, F1-score of the method.\n",
    "result_dict['noisy'] "
   ]
  },
  {
   "cell_type": "code",
   "execution_count": null,
   "metadata": {},
   "outputs": [],
   "source": []
  }
 ],
 "metadata": {
  "kernelspec": {
   "display_name": "Python 3",
   "language": "python",
   "name": "python3"
  },
  "language_info": {
   "codemirror_mode": {
    "name": "ipython",
    "version": 3
   },
   "file_extension": ".py",
   "mimetype": "text/x-python",
   "name": "python",
   "nbconvert_exporter": "python",
   "pygments_lexer": "ipython3",
   "version": "3.6.10"
  }
 },
 "nbformat": 4,
 "nbformat_minor": 4
}
